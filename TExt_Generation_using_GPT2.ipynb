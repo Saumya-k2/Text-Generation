{
  "nbformat": 4,
  "nbformat_minor": 0,
  "metadata": {
    "colab": {
      "name": "TExt Generation using GPT2.ipynb",
      "provenance": [],
      "collapsed_sections": [],
      "toc_visible": true
    },
    "kernelspec": {
      "name": "python3",
      "display_name": "Python 3"
    },
    "language_info": {
      "name": "python"
    },
    "widgets": {
      "application/vnd.jupyter.widget-state+json": {
        "f1d56ad70c454a1ea504d9e8896ff7ae": {
          "model_module": "@jupyter-widgets/controls",
          "model_name": "HBoxModel",
          "state": {
            "_view_name": "HBoxView",
            "_dom_classes": [],
            "_model_name": "HBoxModel",
            "_view_module": "@jupyter-widgets/controls",
            "_model_module_version": "1.5.0",
            "_view_count": null,
            "_view_module_version": "1.5.0",
            "box_style": "",
            "layout": "IPY_MODEL_df6ace63c0264ff49b19269046819e6d",
            "_model_module": "@jupyter-widgets/controls",
            "children": [
              "IPY_MODEL_4f116a10f79540779f968affc0d794ae",
              "IPY_MODEL_e9ec238d5c5541e688d7b4070d446ecd"
            ]
          }
        },
        "df6ace63c0264ff49b19269046819e6d": {
          "model_module": "@jupyter-widgets/base",
          "model_name": "LayoutModel",
          "state": {
            "_view_name": "LayoutView",
            "grid_template_rows": null,
            "right": null,
            "justify_content": null,
            "_view_module": "@jupyter-widgets/base",
            "overflow": null,
            "_model_module_version": "1.2.0",
            "_view_count": null,
            "flex_flow": null,
            "width": null,
            "min_width": null,
            "border": null,
            "align_items": null,
            "bottom": null,
            "_model_module": "@jupyter-widgets/base",
            "top": null,
            "grid_column": null,
            "overflow_y": null,
            "overflow_x": null,
            "grid_auto_flow": null,
            "grid_area": null,
            "grid_template_columns": null,
            "flex": null,
            "_model_name": "LayoutModel",
            "justify_items": null,
            "grid_row": null,
            "max_height": null,
            "align_content": null,
            "visibility": null,
            "align_self": null,
            "height": null,
            "min_height": null,
            "padding": null,
            "grid_auto_rows": null,
            "grid_gap": null,
            "max_width": null,
            "order": null,
            "_view_module_version": "1.2.0",
            "grid_template_areas": null,
            "object_position": null,
            "object_fit": null,
            "grid_auto_columns": null,
            "margin": null,
            "display": null,
            "left": null
          }
        },
        "4f116a10f79540779f968affc0d794ae": {
          "model_module": "@jupyter-widgets/controls",
          "model_name": "FloatProgressModel",
          "state": {
            "_view_name": "ProgressView",
            "style": "IPY_MODEL_78ef8794c28747a880dac6be7c0c2a87",
            "_dom_classes": [],
            "description": "Downloading: 100%",
            "_model_name": "FloatProgressModel",
            "bar_style": "success",
            "max": 1042301,
            "_view_module": "@jupyter-widgets/controls",
            "_model_module_version": "1.5.0",
            "value": 1042301,
            "_view_count": null,
            "_view_module_version": "1.5.0",
            "orientation": "horizontal",
            "min": 0,
            "description_tooltip": null,
            "_model_module": "@jupyter-widgets/controls",
            "layout": "IPY_MODEL_f50575fefa4b4e698f10f62ad6862b04"
          }
        },
        "e9ec238d5c5541e688d7b4070d446ecd": {
          "model_module": "@jupyter-widgets/controls",
          "model_name": "HTMLModel",
          "state": {
            "_view_name": "HTMLView",
            "style": "IPY_MODEL_a9f5c18314f249c2bf23afe82bf72b09",
            "_dom_classes": [],
            "description": "",
            "_model_name": "HTMLModel",
            "placeholder": "​",
            "_view_module": "@jupyter-widgets/controls",
            "_model_module_version": "1.5.0",
            "value": " 1.04M/1.04M [00:00&lt;00:00, 1.80MB/s]",
            "_view_count": null,
            "_view_module_version": "1.5.0",
            "description_tooltip": null,
            "_model_module": "@jupyter-widgets/controls",
            "layout": "IPY_MODEL_8fb6519194a740509c1f844f70563e19"
          }
        },
        "78ef8794c28747a880dac6be7c0c2a87": {
          "model_module": "@jupyter-widgets/controls",
          "model_name": "ProgressStyleModel",
          "state": {
            "_view_name": "StyleView",
            "_model_name": "ProgressStyleModel",
            "description_width": "initial",
            "_view_module": "@jupyter-widgets/base",
            "_model_module_version": "1.5.0",
            "_view_count": null,
            "_view_module_version": "1.2.0",
            "bar_color": null,
            "_model_module": "@jupyter-widgets/controls"
          }
        },
        "f50575fefa4b4e698f10f62ad6862b04": {
          "model_module": "@jupyter-widgets/base",
          "model_name": "LayoutModel",
          "state": {
            "_view_name": "LayoutView",
            "grid_template_rows": null,
            "right": null,
            "justify_content": null,
            "_view_module": "@jupyter-widgets/base",
            "overflow": null,
            "_model_module_version": "1.2.0",
            "_view_count": null,
            "flex_flow": null,
            "width": null,
            "min_width": null,
            "border": null,
            "align_items": null,
            "bottom": null,
            "_model_module": "@jupyter-widgets/base",
            "top": null,
            "grid_column": null,
            "overflow_y": null,
            "overflow_x": null,
            "grid_auto_flow": null,
            "grid_area": null,
            "grid_template_columns": null,
            "flex": null,
            "_model_name": "LayoutModel",
            "justify_items": null,
            "grid_row": null,
            "max_height": null,
            "align_content": null,
            "visibility": null,
            "align_self": null,
            "height": null,
            "min_height": null,
            "padding": null,
            "grid_auto_rows": null,
            "grid_gap": null,
            "max_width": null,
            "order": null,
            "_view_module_version": "1.2.0",
            "grid_template_areas": null,
            "object_position": null,
            "object_fit": null,
            "grid_auto_columns": null,
            "margin": null,
            "display": null,
            "left": null
          }
        },
        "a9f5c18314f249c2bf23afe82bf72b09": {
          "model_module": "@jupyter-widgets/controls",
          "model_name": "DescriptionStyleModel",
          "state": {
            "_view_name": "StyleView",
            "_model_name": "DescriptionStyleModel",
            "description_width": "",
            "_view_module": "@jupyter-widgets/base",
            "_model_module_version": "1.5.0",
            "_view_count": null,
            "_view_module_version": "1.2.0",
            "_model_module": "@jupyter-widgets/controls"
          }
        },
        "8fb6519194a740509c1f844f70563e19": {
          "model_module": "@jupyter-widgets/base",
          "model_name": "LayoutModel",
          "state": {
            "_view_name": "LayoutView",
            "grid_template_rows": null,
            "right": null,
            "justify_content": null,
            "_view_module": "@jupyter-widgets/base",
            "overflow": null,
            "_model_module_version": "1.2.0",
            "_view_count": null,
            "flex_flow": null,
            "width": null,
            "min_width": null,
            "border": null,
            "align_items": null,
            "bottom": null,
            "_model_module": "@jupyter-widgets/base",
            "top": null,
            "grid_column": null,
            "overflow_y": null,
            "overflow_x": null,
            "grid_auto_flow": null,
            "grid_area": null,
            "grid_template_columns": null,
            "flex": null,
            "_model_name": "LayoutModel",
            "justify_items": null,
            "grid_row": null,
            "max_height": null,
            "align_content": null,
            "visibility": null,
            "align_self": null,
            "height": null,
            "min_height": null,
            "padding": null,
            "grid_auto_rows": null,
            "grid_gap": null,
            "max_width": null,
            "order": null,
            "_view_module_version": "1.2.0",
            "grid_template_areas": null,
            "object_position": null,
            "object_fit": null,
            "grid_auto_columns": null,
            "margin": null,
            "display": null,
            "left": null
          }
        },
        "9575bd20d93e4e7fb003f9ce8e3441f4": {
          "model_module": "@jupyter-widgets/controls",
          "model_name": "HBoxModel",
          "state": {
            "_view_name": "HBoxView",
            "_dom_classes": [],
            "_model_name": "HBoxModel",
            "_view_module": "@jupyter-widgets/controls",
            "_model_module_version": "1.5.0",
            "_view_count": null,
            "_view_module_version": "1.5.0",
            "box_style": "",
            "layout": "IPY_MODEL_9421ed558f5c4e31bef73eb0b3bbced1",
            "_model_module": "@jupyter-widgets/controls",
            "children": [
              "IPY_MODEL_31fff8ab5a1d4e8cb8af66ce0632b139",
              "IPY_MODEL_45d3c7f8934743ddbdada73ac8cb3ac9"
            ]
          }
        },
        "9421ed558f5c4e31bef73eb0b3bbced1": {
          "model_module": "@jupyter-widgets/base",
          "model_name": "LayoutModel",
          "state": {
            "_view_name": "LayoutView",
            "grid_template_rows": null,
            "right": null,
            "justify_content": null,
            "_view_module": "@jupyter-widgets/base",
            "overflow": null,
            "_model_module_version": "1.2.0",
            "_view_count": null,
            "flex_flow": null,
            "width": null,
            "min_width": null,
            "border": null,
            "align_items": null,
            "bottom": null,
            "_model_module": "@jupyter-widgets/base",
            "top": null,
            "grid_column": null,
            "overflow_y": null,
            "overflow_x": null,
            "grid_auto_flow": null,
            "grid_area": null,
            "grid_template_columns": null,
            "flex": null,
            "_model_name": "LayoutModel",
            "justify_items": null,
            "grid_row": null,
            "max_height": null,
            "align_content": null,
            "visibility": null,
            "align_self": null,
            "height": null,
            "min_height": null,
            "padding": null,
            "grid_auto_rows": null,
            "grid_gap": null,
            "max_width": null,
            "order": null,
            "_view_module_version": "1.2.0",
            "grid_template_areas": null,
            "object_position": null,
            "object_fit": null,
            "grid_auto_columns": null,
            "margin": null,
            "display": null,
            "left": null
          }
        },
        "31fff8ab5a1d4e8cb8af66ce0632b139": {
          "model_module": "@jupyter-widgets/controls",
          "model_name": "FloatProgressModel",
          "state": {
            "_view_name": "ProgressView",
            "style": "IPY_MODEL_ab95ac92f7b543228d98e6d8dc37bc15",
            "_dom_classes": [],
            "description": "Downloading: 100%",
            "_model_name": "FloatProgressModel",
            "bar_style": "success",
            "max": 456318,
            "_view_module": "@jupyter-widgets/controls",
            "_model_module_version": "1.5.0",
            "value": 456318,
            "_view_count": null,
            "_view_module_version": "1.5.0",
            "orientation": "horizontal",
            "min": 0,
            "description_tooltip": null,
            "_model_module": "@jupyter-widgets/controls",
            "layout": "IPY_MODEL_05e67005be2841ff8d15c9546c0310c4"
          }
        },
        "45d3c7f8934743ddbdada73ac8cb3ac9": {
          "model_module": "@jupyter-widgets/controls",
          "model_name": "HTMLModel",
          "state": {
            "_view_name": "HTMLView",
            "style": "IPY_MODEL_9b7055f62edb4596beec5f1489b7a4d2",
            "_dom_classes": [],
            "description": "",
            "_model_name": "HTMLModel",
            "placeholder": "​",
            "_view_module": "@jupyter-widgets/controls",
            "_model_module_version": "1.5.0",
            "value": " 456k/456k [00:00&lt;00:00, 3.94MB/s]",
            "_view_count": null,
            "_view_module_version": "1.5.0",
            "description_tooltip": null,
            "_model_module": "@jupyter-widgets/controls",
            "layout": "IPY_MODEL_3c40f28000064a338abc8de6b691d0eb"
          }
        },
        "ab95ac92f7b543228d98e6d8dc37bc15": {
          "model_module": "@jupyter-widgets/controls",
          "model_name": "ProgressStyleModel",
          "state": {
            "_view_name": "StyleView",
            "_model_name": "ProgressStyleModel",
            "description_width": "initial",
            "_view_module": "@jupyter-widgets/base",
            "_model_module_version": "1.5.0",
            "_view_count": null,
            "_view_module_version": "1.2.0",
            "bar_color": null,
            "_model_module": "@jupyter-widgets/controls"
          }
        },
        "05e67005be2841ff8d15c9546c0310c4": {
          "model_module": "@jupyter-widgets/base",
          "model_name": "LayoutModel",
          "state": {
            "_view_name": "LayoutView",
            "grid_template_rows": null,
            "right": null,
            "justify_content": null,
            "_view_module": "@jupyter-widgets/base",
            "overflow": null,
            "_model_module_version": "1.2.0",
            "_view_count": null,
            "flex_flow": null,
            "width": null,
            "min_width": null,
            "border": null,
            "align_items": null,
            "bottom": null,
            "_model_module": "@jupyter-widgets/base",
            "top": null,
            "grid_column": null,
            "overflow_y": null,
            "overflow_x": null,
            "grid_auto_flow": null,
            "grid_area": null,
            "grid_template_columns": null,
            "flex": null,
            "_model_name": "LayoutModel",
            "justify_items": null,
            "grid_row": null,
            "max_height": null,
            "align_content": null,
            "visibility": null,
            "align_self": null,
            "height": null,
            "min_height": null,
            "padding": null,
            "grid_auto_rows": null,
            "grid_gap": null,
            "max_width": null,
            "order": null,
            "_view_module_version": "1.2.0",
            "grid_template_areas": null,
            "object_position": null,
            "object_fit": null,
            "grid_auto_columns": null,
            "margin": null,
            "display": null,
            "left": null
          }
        },
        "9b7055f62edb4596beec5f1489b7a4d2": {
          "model_module": "@jupyter-widgets/controls",
          "model_name": "DescriptionStyleModel",
          "state": {
            "_view_name": "StyleView",
            "_model_name": "DescriptionStyleModel",
            "description_width": "",
            "_view_module": "@jupyter-widgets/base",
            "_model_module_version": "1.5.0",
            "_view_count": null,
            "_view_module_version": "1.2.0",
            "_model_module": "@jupyter-widgets/controls"
          }
        },
        "3c40f28000064a338abc8de6b691d0eb": {
          "model_module": "@jupyter-widgets/base",
          "model_name": "LayoutModel",
          "state": {
            "_view_name": "LayoutView",
            "grid_template_rows": null,
            "right": null,
            "justify_content": null,
            "_view_module": "@jupyter-widgets/base",
            "overflow": null,
            "_model_module_version": "1.2.0",
            "_view_count": null,
            "flex_flow": null,
            "width": null,
            "min_width": null,
            "border": null,
            "align_items": null,
            "bottom": null,
            "_model_module": "@jupyter-widgets/base",
            "top": null,
            "grid_column": null,
            "overflow_y": null,
            "overflow_x": null,
            "grid_auto_flow": null,
            "grid_area": null,
            "grid_template_columns": null,
            "flex": null,
            "_model_name": "LayoutModel",
            "justify_items": null,
            "grid_row": null,
            "max_height": null,
            "align_content": null,
            "visibility": null,
            "align_self": null,
            "height": null,
            "min_height": null,
            "padding": null,
            "grid_auto_rows": null,
            "grid_gap": null,
            "max_width": null,
            "order": null,
            "_view_module_version": "1.2.0",
            "grid_template_areas": null,
            "object_position": null,
            "object_fit": null,
            "grid_auto_columns": null,
            "margin": null,
            "display": null,
            "left": null
          }
        },
        "8fffd102c2c94465862cd4801d7dd6c2": {
          "model_module": "@jupyter-widgets/controls",
          "model_name": "HBoxModel",
          "state": {
            "_view_name": "HBoxView",
            "_dom_classes": [],
            "_model_name": "HBoxModel",
            "_view_module": "@jupyter-widgets/controls",
            "_model_module_version": "1.5.0",
            "_view_count": null,
            "_view_module_version": "1.5.0",
            "box_style": "",
            "layout": "IPY_MODEL_994cacecccde42b382f5cfd5208d2ac1",
            "_model_module": "@jupyter-widgets/controls",
            "children": [
              "IPY_MODEL_f0958a66537248bfb185517f937ac26a",
              "IPY_MODEL_0628b12cb559497fa9cb341a1c84a560"
            ]
          }
        },
        "994cacecccde42b382f5cfd5208d2ac1": {
          "model_module": "@jupyter-widgets/base",
          "model_name": "LayoutModel",
          "state": {
            "_view_name": "LayoutView",
            "grid_template_rows": null,
            "right": null,
            "justify_content": null,
            "_view_module": "@jupyter-widgets/base",
            "overflow": null,
            "_model_module_version": "1.2.0",
            "_view_count": null,
            "flex_flow": null,
            "width": null,
            "min_width": null,
            "border": null,
            "align_items": null,
            "bottom": null,
            "_model_module": "@jupyter-widgets/base",
            "top": null,
            "grid_column": null,
            "overflow_y": null,
            "overflow_x": null,
            "grid_auto_flow": null,
            "grid_area": null,
            "grid_template_columns": null,
            "flex": null,
            "_model_name": "LayoutModel",
            "justify_items": null,
            "grid_row": null,
            "max_height": null,
            "align_content": null,
            "visibility": null,
            "align_self": null,
            "height": null,
            "min_height": null,
            "padding": null,
            "grid_auto_rows": null,
            "grid_gap": null,
            "max_width": null,
            "order": null,
            "_view_module_version": "1.2.0",
            "grid_template_areas": null,
            "object_position": null,
            "object_fit": null,
            "grid_auto_columns": null,
            "margin": null,
            "display": null,
            "left": null
          }
        },
        "f0958a66537248bfb185517f937ac26a": {
          "model_module": "@jupyter-widgets/controls",
          "model_name": "FloatProgressModel",
          "state": {
            "_view_name": "ProgressView",
            "style": "IPY_MODEL_863266b07a4e46a08ea61cceb8b93d38",
            "_dom_classes": [],
            "description": "Downloading: 100%",
            "_model_name": "FloatProgressModel",
            "bar_style": "success",
            "max": 1355256,
            "_view_module": "@jupyter-widgets/controls",
            "_model_module_version": "1.5.0",
            "value": 1355256,
            "_view_count": null,
            "_view_module_version": "1.5.0",
            "orientation": "horizontal",
            "min": 0,
            "description_tooltip": null,
            "_model_module": "@jupyter-widgets/controls",
            "layout": "IPY_MODEL_f8f943c758304f64aa56dfcc9f4d7513"
          }
        },
        "0628b12cb559497fa9cb341a1c84a560": {
          "model_module": "@jupyter-widgets/controls",
          "model_name": "HTMLModel",
          "state": {
            "_view_name": "HTMLView",
            "style": "IPY_MODEL_471dc540a98042f2a2f888e5ec532b96",
            "_dom_classes": [],
            "description": "",
            "_model_name": "HTMLModel",
            "placeholder": "​",
            "_view_module": "@jupyter-widgets/controls",
            "_model_module_version": "1.5.0",
            "value": " 1.36M/1.36M [00:00&lt;00:00, 6.75MB/s]",
            "_view_count": null,
            "_view_module_version": "1.5.0",
            "description_tooltip": null,
            "_model_module": "@jupyter-widgets/controls",
            "layout": "IPY_MODEL_a80c735b1895425d93470901cf248206"
          }
        },
        "863266b07a4e46a08ea61cceb8b93d38": {
          "model_module": "@jupyter-widgets/controls",
          "model_name": "ProgressStyleModel",
          "state": {
            "_view_name": "StyleView",
            "_model_name": "ProgressStyleModel",
            "description_width": "initial",
            "_view_module": "@jupyter-widgets/base",
            "_model_module_version": "1.5.0",
            "_view_count": null,
            "_view_module_version": "1.2.0",
            "bar_color": null,
            "_model_module": "@jupyter-widgets/controls"
          }
        },
        "f8f943c758304f64aa56dfcc9f4d7513": {
          "model_module": "@jupyter-widgets/base",
          "model_name": "LayoutModel",
          "state": {
            "_view_name": "LayoutView",
            "grid_template_rows": null,
            "right": null,
            "justify_content": null,
            "_view_module": "@jupyter-widgets/base",
            "overflow": null,
            "_model_module_version": "1.2.0",
            "_view_count": null,
            "flex_flow": null,
            "width": null,
            "min_width": null,
            "border": null,
            "align_items": null,
            "bottom": null,
            "_model_module": "@jupyter-widgets/base",
            "top": null,
            "grid_column": null,
            "overflow_y": null,
            "overflow_x": null,
            "grid_auto_flow": null,
            "grid_area": null,
            "grid_template_columns": null,
            "flex": null,
            "_model_name": "LayoutModel",
            "justify_items": null,
            "grid_row": null,
            "max_height": null,
            "align_content": null,
            "visibility": null,
            "align_self": null,
            "height": null,
            "min_height": null,
            "padding": null,
            "grid_auto_rows": null,
            "grid_gap": null,
            "max_width": null,
            "order": null,
            "_view_module_version": "1.2.0",
            "grid_template_areas": null,
            "object_position": null,
            "object_fit": null,
            "grid_auto_columns": null,
            "margin": null,
            "display": null,
            "left": null
          }
        },
        "471dc540a98042f2a2f888e5ec532b96": {
          "model_module": "@jupyter-widgets/controls",
          "model_name": "DescriptionStyleModel",
          "state": {
            "_view_name": "StyleView",
            "_model_name": "DescriptionStyleModel",
            "description_width": "",
            "_view_module": "@jupyter-widgets/base",
            "_model_module_version": "1.5.0",
            "_view_count": null,
            "_view_module_version": "1.2.0",
            "_model_module": "@jupyter-widgets/controls"
          }
        },
        "a80c735b1895425d93470901cf248206": {
          "model_module": "@jupyter-widgets/base",
          "model_name": "LayoutModel",
          "state": {
            "_view_name": "LayoutView",
            "grid_template_rows": null,
            "right": null,
            "justify_content": null,
            "_view_module": "@jupyter-widgets/base",
            "overflow": null,
            "_model_module_version": "1.2.0",
            "_view_count": null,
            "flex_flow": null,
            "width": null,
            "min_width": null,
            "border": null,
            "align_items": null,
            "bottom": null,
            "_model_module": "@jupyter-widgets/base",
            "top": null,
            "grid_column": null,
            "overflow_y": null,
            "overflow_x": null,
            "grid_auto_flow": null,
            "grid_area": null,
            "grid_template_columns": null,
            "flex": null,
            "_model_name": "LayoutModel",
            "justify_items": null,
            "grid_row": null,
            "max_height": null,
            "align_content": null,
            "visibility": null,
            "align_self": null,
            "height": null,
            "min_height": null,
            "padding": null,
            "grid_auto_rows": null,
            "grid_gap": null,
            "max_width": null,
            "order": null,
            "_view_module_version": "1.2.0",
            "grid_template_areas": null,
            "object_position": null,
            "object_fit": null,
            "grid_auto_columns": null,
            "margin": null,
            "display": null,
            "left": null
          }
        },
        "3c70a20761a2476780e545c71aa655cd": {
          "model_module": "@jupyter-widgets/controls",
          "model_name": "HBoxModel",
          "state": {
            "_view_name": "HBoxView",
            "_dom_classes": [],
            "_model_name": "HBoxModel",
            "_view_module": "@jupyter-widgets/controls",
            "_model_module_version": "1.5.0",
            "_view_count": null,
            "_view_module_version": "1.5.0",
            "box_style": "",
            "layout": "IPY_MODEL_101c9a5ca39f4ba4a40128d144946188",
            "_model_module": "@jupyter-widgets/controls",
            "children": [
              "IPY_MODEL_7bded2ee0eed41b0b7df537f0c206564",
              "IPY_MODEL_915e42b2d2b04b98bf84c6a9b4b59077"
            ]
          }
        },
        "101c9a5ca39f4ba4a40128d144946188": {
          "model_module": "@jupyter-widgets/base",
          "model_name": "LayoutModel",
          "state": {
            "_view_name": "LayoutView",
            "grid_template_rows": null,
            "right": null,
            "justify_content": null,
            "_view_module": "@jupyter-widgets/base",
            "overflow": null,
            "_model_module_version": "1.2.0",
            "_view_count": null,
            "flex_flow": null,
            "width": null,
            "min_width": null,
            "border": null,
            "align_items": null,
            "bottom": null,
            "_model_module": "@jupyter-widgets/base",
            "top": null,
            "grid_column": null,
            "overflow_y": null,
            "overflow_x": null,
            "grid_auto_flow": null,
            "grid_area": null,
            "grid_template_columns": null,
            "flex": null,
            "_model_name": "LayoutModel",
            "justify_items": null,
            "grid_row": null,
            "max_height": null,
            "align_content": null,
            "visibility": null,
            "align_self": null,
            "height": null,
            "min_height": null,
            "padding": null,
            "grid_auto_rows": null,
            "grid_gap": null,
            "max_width": null,
            "order": null,
            "_view_module_version": "1.2.0",
            "grid_template_areas": null,
            "object_position": null,
            "object_fit": null,
            "grid_auto_columns": null,
            "margin": null,
            "display": null,
            "left": null
          }
        },
        "7bded2ee0eed41b0b7df537f0c206564": {
          "model_module": "@jupyter-widgets/controls",
          "model_name": "FloatProgressModel",
          "state": {
            "_view_name": "ProgressView",
            "style": "IPY_MODEL_e5446f91c60644c5b4c8c1f3d02921f0",
            "_dom_classes": [],
            "description": "Downloading: 100%",
            "_model_name": "FloatProgressModel",
            "bar_style": "success",
            "max": 665,
            "_view_module": "@jupyter-widgets/controls",
            "_model_module_version": "1.5.0",
            "value": 665,
            "_view_count": null,
            "_view_module_version": "1.5.0",
            "orientation": "horizontal",
            "min": 0,
            "description_tooltip": null,
            "_model_module": "@jupyter-widgets/controls",
            "layout": "IPY_MODEL_599de20624854a6594d54c6813a8d41e"
          }
        },
        "915e42b2d2b04b98bf84c6a9b4b59077": {
          "model_module": "@jupyter-widgets/controls",
          "model_name": "HTMLModel",
          "state": {
            "_view_name": "HTMLView",
            "style": "IPY_MODEL_895989caab214f26badc583867c1c728",
            "_dom_classes": [],
            "description": "",
            "_model_name": "HTMLModel",
            "placeholder": "​",
            "_view_module": "@jupyter-widgets/controls",
            "_model_module_version": "1.5.0",
            "value": " 665/665 [00:00&lt;00:00, 3.10kB/s]",
            "_view_count": null,
            "_view_module_version": "1.5.0",
            "description_tooltip": null,
            "_model_module": "@jupyter-widgets/controls",
            "layout": "IPY_MODEL_034072bdf93a46f7ae69899b066ee393"
          }
        },
        "e5446f91c60644c5b4c8c1f3d02921f0": {
          "model_module": "@jupyter-widgets/controls",
          "model_name": "ProgressStyleModel",
          "state": {
            "_view_name": "StyleView",
            "_model_name": "ProgressStyleModel",
            "description_width": "initial",
            "_view_module": "@jupyter-widgets/base",
            "_model_module_version": "1.5.0",
            "_view_count": null,
            "_view_module_version": "1.2.0",
            "bar_color": null,
            "_model_module": "@jupyter-widgets/controls"
          }
        },
        "599de20624854a6594d54c6813a8d41e": {
          "model_module": "@jupyter-widgets/base",
          "model_name": "LayoutModel",
          "state": {
            "_view_name": "LayoutView",
            "grid_template_rows": null,
            "right": null,
            "justify_content": null,
            "_view_module": "@jupyter-widgets/base",
            "overflow": null,
            "_model_module_version": "1.2.0",
            "_view_count": null,
            "flex_flow": null,
            "width": null,
            "min_width": null,
            "border": null,
            "align_items": null,
            "bottom": null,
            "_model_module": "@jupyter-widgets/base",
            "top": null,
            "grid_column": null,
            "overflow_y": null,
            "overflow_x": null,
            "grid_auto_flow": null,
            "grid_area": null,
            "grid_template_columns": null,
            "flex": null,
            "_model_name": "LayoutModel",
            "justify_items": null,
            "grid_row": null,
            "max_height": null,
            "align_content": null,
            "visibility": null,
            "align_self": null,
            "height": null,
            "min_height": null,
            "padding": null,
            "grid_auto_rows": null,
            "grid_gap": null,
            "max_width": null,
            "order": null,
            "_view_module_version": "1.2.0",
            "grid_template_areas": null,
            "object_position": null,
            "object_fit": null,
            "grid_auto_columns": null,
            "margin": null,
            "display": null,
            "left": null
          }
        },
        "895989caab214f26badc583867c1c728": {
          "model_module": "@jupyter-widgets/controls",
          "model_name": "DescriptionStyleModel",
          "state": {
            "_view_name": "StyleView",
            "_model_name": "DescriptionStyleModel",
            "description_width": "",
            "_view_module": "@jupyter-widgets/base",
            "_model_module_version": "1.5.0",
            "_view_count": null,
            "_view_module_version": "1.2.0",
            "_model_module": "@jupyter-widgets/controls"
          }
        },
        "034072bdf93a46f7ae69899b066ee393": {
          "model_module": "@jupyter-widgets/base",
          "model_name": "LayoutModel",
          "state": {
            "_view_name": "LayoutView",
            "grid_template_rows": null,
            "right": null,
            "justify_content": null,
            "_view_module": "@jupyter-widgets/base",
            "overflow": null,
            "_model_module_version": "1.2.0",
            "_view_count": null,
            "flex_flow": null,
            "width": null,
            "min_width": null,
            "border": null,
            "align_items": null,
            "bottom": null,
            "_model_module": "@jupyter-widgets/base",
            "top": null,
            "grid_column": null,
            "overflow_y": null,
            "overflow_x": null,
            "grid_auto_flow": null,
            "grid_area": null,
            "grid_template_columns": null,
            "flex": null,
            "_model_name": "LayoutModel",
            "justify_items": null,
            "grid_row": null,
            "max_height": null,
            "align_content": null,
            "visibility": null,
            "align_self": null,
            "height": null,
            "min_height": null,
            "padding": null,
            "grid_auto_rows": null,
            "grid_gap": null,
            "max_width": null,
            "order": null,
            "_view_module_version": "1.2.0",
            "grid_template_areas": null,
            "object_position": null,
            "object_fit": null,
            "grid_auto_columns": null,
            "margin": null,
            "display": null,
            "left": null
          }
        },
        "8cf3bd7405a14e98bcb0e73e17610e8e": {
          "model_module": "@jupyter-widgets/controls",
          "model_name": "HBoxModel",
          "state": {
            "_view_name": "HBoxView",
            "_dom_classes": [],
            "_model_name": "HBoxModel",
            "_view_module": "@jupyter-widgets/controls",
            "_model_module_version": "1.5.0",
            "_view_count": null,
            "_view_module_version": "1.5.0",
            "box_style": "",
            "layout": "IPY_MODEL_d9d2bfe5dc3d443a9cb70c0f34223d4a",
            "_model_module": "@jupyter-widgets/controls",
            "children": [
              "IPY_MODEL_4c3821a43eac4c20a5386e6ed08cbfb8",
              "IPY_MODEL_3ac5b97443e24f83b514d809ae3b03bd"
            ]
          }
        },
        "d9d2bfe5dc3d443a9cb70c0f34223d4a": {
          "model_module": "@jupyter-widgets/base",
          "model_name": "LayoutModel",
          "state": {
            "_view_name": "LayoutView",
            "grid_template_rows": null,
            "right": null,
            "justify_content": null,
            "_view_module": "@jupyter-widgets/base",
            "overflow": null,
            "_model_module_version": "1.2.0",
            "_view_count": null,
            "flex_flow": null,
            "width": null,
            "min_width": null,
            "border": null,
            "align_items": null,
            "bottom": null,
            "_model_module": "@jupyter-widgets/base",
            "top": null,
            "grid_column": null,
            "overflow_y": null,
            "overflow_x": null,
            "grid_auto_flow": null,
            "grid_area": null,
            "grid_template_columns": null,
            "flex": null,
            "_model_name": "LayoutModel",
            "justify_items": null,
            "grid_row": null,
            "max_height": null,
            "align_content": null,
            "visibility": null,
            "align_self": null,
            "height": null,
            "min_height": null,
            "padding": null,
            "grid_auto_rows": null,
            "grid_gap": null,
            "max_width": null,
            "order": null,
            "_view_module_version": "1.2.0",
            "grid_template_areas": null,
            "object_position": null,
            "object_fit": null,
            "grid_auto_columns": null,
            "margin": null,
            "display": null,
            "left": null
          }
        },
        "4c3821a43eac4c20a5386e6ed08cbfb8": {
          "model_module": "@jupyter-widgets/controls",
          "model_name": "FloatProgressModel",
          "state": {
            "_view_name": "ProgressView",
            "style": "IPY_MODEL_a5e30d55f3104426b6d099dbb2891d7c",
            "_dom_classes": [],
            "description": "Downloading: 100%",
            "_model_name": "FloatProgressModel",
            "bar_style": "success",
            "max": 548118077,
            "_view_module": "@jupyter-widgets/controls",
            "_model_module_version": "1.5.0",
            "value": 548118077,
            "_view_count": null,
            "_view_module_version": "1.5.0",
            "orientation": "horizontal",
            "min": 0,
            "description_tooltip": null,
            "_model_module": "@jupyter-widgets/controls",
            "layout": "IPY_MODEL_3223be3378d0409fbfa55bc13b37ea97"
          }
        },
        "3ac5b97443e24f83b514d809ae3b03bd": {
          "model_module": "@jupyter-widgets/controls",
          "model_name": "HTMLModel",
          "state": {
            "_view_name": "HTMLView",
            "style": "IPY_MODEL_de8fab71c4834a1286efac46a4e48ed5",
            "_dom_classes": [],
            "description": "",
            "_model_name": "HTMLModel",
            "placeholder": "​",
            "_view_module": "@jupyter-widgets/controls",
            "_model_module_version": "1.5.0",
            "value": " 548M/548M [00:29&lt;00:00, 18.8MB/s]",
            "_view_count": null,
            "_view_module_version": "1.5.0",
            "description_tooltip": null,
            "_model_module": "@jupyter-widgets/controls",
            "layout": "IPY_MODEL_20db18a1ea664bcc86df606054655911"
          }
        },
        "a5e30d55f3104426b6d099dbb2891d7c": {
          "model_module": "@jupyter-widgets/controls",
          "model_name": "ProgressStyleModel",
          "state": {
            "_view_name": "StyleView",
            "_model_name": "ProgressStyleModel",
            "description_width": "initial",
            "_view_module": "@jupyter-widgets/base",
            "_model_module_version": "1.5.0",
            "_view_count": null,
            "_view_module_version": "1.2.0",
            "bar_color": null,
            "_model_module": "@jupyter-widgets/controls"
          }
        },
        "3223be3378d0409fbfa55bc13b37ea97": {
          "model_module": "@jupyter-widgets/base",
          "model_name": "LayoutModel",
          "state": {
            "_view_name": "LayoutView",
            "grid_template_rows": null,
            "right": null,
            "justify_content": null,
            "_view_module": "@jupyter-widgets/base",
            "overflow": null,
            "_model_module_version": "1.2.0",
            "_view_count": null,
            "flex_flow": null,
            "width": null,
            "min_width": null,
            "border": null,
            "align_items": null,
            "bottom": null,
            "_model_module": "@jupyter-widgets/base",
            "top": null,
            "grid_column": null,
            "overflow_y": null,
            "overflow_x": null,
            "grid_auto_flow": null,
            "grid_area": null,
            "grid_template_columns": null,
            "flex": null,
            "_model_name": "LayoutModel",
            "justify_items": null,
            "grid_row": null,
            "max_height": null,
            "align_content": null,
            "visibility": null,
            "align_self": null,
            "height": null,
            "min_height": null,
            "padding": null,
            "grid_auto_rows": null,
            "grid_gap": null,
            "max_width": null,
            "order": null,
            "_view_module_version": "1.2.0",
            "grid_template_areas": null,
            "object_position": null,
            "object_fit": null,
            "grid_auto_columns": null,
            "margin": null,
            "display": null,
            "left": null
          }
        },
        "de8fab71c4834a1286efac46a4e48ed5": {
          "model_module": "@jupyter-widgets/controls",
          "model_name": "DescriptionStyleModel",
          "state": {
            "_view_name": "StyleView",
            "_model_name": "DescriptionStyleModel",
            "description_width": "",
            "_view_module": "@jupyter-widgets/base",
            "_model_module_version": "1.5.0",
            "_view_count": null,
            "_view_module_version": "1.2.0",
            "_model_module": "@jupyter-widgets/controls"
          }
        },
        "20db18a1ea664bcc86df606054655911": {
          "model_module": "@jupyter-widgets/base",
          "model_name": "LayoutModel",
          "state": {
            "_view_name": "LayoutView",
            "grid_template_rows": null,
            "right": null,
            "justify_content": null,
            "_view_module": "@jupyter-widgets/base",
            "overflow": null,
            "_model_module_version": "1.2.0",
            "_view_count": null,
            "flex_flow": null,
            "width": null,
            "min_width": null,
            "border": null,
            "align_items": null,
            "bottom": null,
            "_model_module": "@jupyter-widgets/base",
            "top": null,
            "grid_column": null,
            "overflow_y": null,
            "overflow_x": null,
            "grid_auto_flow": null,
            "grid_area": null,
            "grid_template_columns": null,
            "flex": null,
            "_model_name": "LayoutModel",
            "justify_items": null,
            "grid_row": null,
            "max_height": null,
            "align_content": null,
            "visibility": null,
            "align_self": null,
            "height": null,
            "min_height": null,
            "padding": null,
            "grid_auto_rows": null,
            "grid_gap": null,
            "max_width": null,
            "order": null,
            "_view_module_version": "1.2.0",
            "grid_template_areas": null,
            "object_position": null,
            "object_fit": null,
            "grid_auto_columns": null,
            "margin": null,
            "display": null,
            "left": null
          }
        }
      }
    }
  },
  "cells": [
    {
      "cell_type": "markdown",
      "metadata": {
        "id": "JJO7J-ezrQoZ"
      },
      "source": [
        "TExt Generation using **GPT2**"
      ]
    },
    {
      "cell_type": "code",
      "metadata": {
        "id": "haevqNsurWL6"
      },
      "source": [
        ""
      ],
      "execution_count": null,
      "outputs": []
    },
    {
      "cell_type": "code",
      "metadata": {
        "colab": {
          "base_uri": "https://localhost:8080/"
        },
        "id": "TYeO9qIhmgwT",
        "outputId": "32b870df-1721-4623-ec94-a39ac7334671"
      },
      "source": [
        "!pip install transformers"
      ],
      "execution_count": 1,
      "outputs": [
        {
          "output_type": "stream",
          "text": [
            "Collecting transformers\n",
            "\u001b[?25l  Downloading https://files.pythonhosted.org/packages/d8/b2/57495b5309f09fa501866e225c84532d1fd89536ea62406b2181933fb418/transformers-4.5.1-py3-none-any.whl (2.1MB)\n",
            "\r\u001b[K     |▏                               | 10kB 13.0MB/s eta 0:00:01\r\u001b[K     |▎                               | 20kB 18.7MB/s eta 0:00:01\r\u001b[K     |▌                               | 30kB 18.8MB/s eta 0:00:01\r\u001b[K     |▋                               | 40kB 17.4MB/s eta 0:00:01\r\u001b[K     |▉                               | 51kB 13.0MB/s eta 0:00:01\r\u001b[K     |█                               | 61kB 13.6MB/s eta 0:00:01\r\u001b[K     |█▏                              | 71kB 12.7MB/s eta 0:00:01\r\u001b[K     |█▎                              | 81kB 13.5MB/s eta 0:00:01\r\u001b[K     |█▍                              | 92kB 13.4MB/s eta 0:00:01\r\u001b[K     |█▋                              | 102kB 14.3MB/s eta 0:00:01\r\u001b[K     |█▊                              | 112kB 14.3MB/s eta 0:00:01\r\u001b[K     |██                              | 122kB 14.3MB/s eta 0:00:01\r\u001b[K     |██                              | 133kB 14.3MB/s eta 0:00:01\r\u001b[K     |██▎                             | 143kB 14.3MB/s eta 0:00:01\r\u001b[K     |██▍                             | 153kB 14.3MB/s eta 0:00:01\r\u001b[K     |██▌                             | 163kB 14.3MB/s eta 0:00:01\r\u001b[K     |██▊                             | 174kB 14.3MB/s eta 0:00:01\r\u001b[K     |██▉                             | 184kB 14.3MB/s eta 0:00:01\r\u001b[K     |███                             | 194kB 14.3MB/s eta 0:00:01\r\u001b[K     |███▏                            | 204kB 14.3MB/s eta 0:00:01\r\u001b[K     |███▍                            | 215kB 14.3MB/s eta 0:00:01\r\u001b[K     |███▌                            | 225kB 14.3MB/s eta 0:00:01\r\u001b[K     |███▋                            | 235kB 14.3MB/s eta 0:00:01\r\u001b[K     |███▉                            | 245kB 14.3MB/s eta 0:00:01\r\u001b[K     |████                            | 256kB 14.3MB/s eta 0:00:01\r\u001b[K     |████▏                           | 266kB 14.3MB/s eta 0:00:01\r\u001b[K     |████▎                           | 276kB 14.3MB/s eta 0:00:01\r\u001b[K     |████▌                           | 286kB 14.3MB/s eta 0:00:01\r\u001b[K     |████▋                           | 296kB 14.3MB/s eta 0:00:01\r\u001b[K     |████▊                           | 307kB 14.3MB/s eta 0:00:01\r\u001b[K     |█████                           | 317kB 14.3MB/s eta 0:00:01\r\u001b[K     |█████                           | 327kB 14.3MB/s eta 0:00:01\r\u001b[K     |█████▎                          | 337kB 14.3MB/s eta 0:00:01\r\u001b[K     |█████▍                          | 348kB 14.3MB/s eta 0:00:01\r\u001b[K     |█████▋                          | 358kB 14.3MB/s eta 0:00:01\r\u001b[K     |█████▊                          | 368kB 14.3MB/s eta 0:00:01\r\u001b[K     |█████▉                          | 378kB 14.3MB/s eta 0:00:01\r\u001b[K     |██████                          | 389kB 14.3MB/s eta 0:00:01\r\u001b[K     |██████▏                         | 399kB 14.3MB/s eta 0:00:01\r\u001b[K     |██████▍                         | 409kB 14.3MB/s eta 0:00:01\r\u001b[K     |██████▌                         | 419kB 14.3MB/s eta 0:00:01\r\u001b[K     |██████▊                         | 430kB 14.3MB/s eta 0:00:01\r\u001b[K     |██████▉                         | 440kB 14.3MB/s eta 0:00:01\r\u001b[K     |███████                         | 450kB 14.3MB/s eta 0:00:01\r\u001b[K     |███████▏                        | 460kB 14.3MB/s eta 0:00:01\r\u001b[K     |███████▎                        | 471kB 14.3MB/s eta 0:00:01\r\u001b[K     |███████▌                        | 481kB 14.3MB/s eta 0:00:01\r\u001b[K     |███████▋                        | 491kB 14.3MB/s eta 0:00:01\r\u001b[K     |███████▉                        | 501kB 14.3MB/s eta 0:00:01\r\u001b[K     |████████                        | 512kB 14.3MB/s eta 0:00:01\r\u001b[K     |████████                        | 522kB 14.3MB/s eta 0:00:01\r\u001b[K     |████████▎                       | 532kB 14.3MB/s eta 0:00:01\r\u001b[K     |████████▍                       | 542kB 14.3MB/s eta 0:00:01\r\u001b[K     |████████▋                       | 552kB 14.3MB/s eta 0:00:01\r\u001b[K     |████████▊                       | 563kB 14.3MB/s eta 0:00:01\r\u001b[K     |█████████                       | 573kB 14.3MB/s eta 0:00:01\r\u001b[K     |█████████                       | 583kB 14.3MB/s eta 0:00:01\r\u001b[K     |█████████▎                      | 593kB 14.3MB/s eta 0:00:01\r\u001b[K     |█████████▍                      | 604kB 14.3MB/s eta 0:00:01\r\u001b[K     |█████████▌                      | 614kB 14.3MB/s eta 0:00:01\r\u001b[K     |█████████▊                      | 624kB 14.3MB/s eta 0:00:01\r\u001b[K     |█████████▉                      | 634kB 14.3MB/s eta 0:00:01\r\u001b[K     |██████████                      | 645kB 14.3MB/s eta 0:00:01\r\u001b[K     |██████████▏                     | 655kB 14.3MB/s eta 0:00:01\r\u001b[K     |██████████▍                     | 665kB 14.3MB/s eta 0:00:01\r\u001b[K     |██████████▌                     | 675kB 14.3MB/s eta 0:00:01\r\u001b[K     |██████████▋                     | 686kB 14.3MB/s eta 0:00:01\r\u001b[K     |██████████▉                     | 696kB 14.3MB/s eta 0:00:01\r\u001b[K     |███████████                     | 706kB 14.3MB/s eta 0:00:01\r\u001b[K     |███████████▏                    | 716kB 14.3MB/s eta 0:00:01\r\u001b[K     |███████████▎                    | 727kB 14.3MB/s eta 0:00:01\r\u001b[K     |███████████▌                    | 737kB 14.3MB/s eta 0:00:01\r\u001b[K     |███████████▋                    | 747kB 14.3MB/s eta 0:00:01\r\u001b[K     |███████████▊                    | 757kB 14.3MB/s eta 0:00:01\r\u001b[K     |████████████                    | 768kB 14.3MB/s eta 0:00:01\r\u001b[K     |████████████                    | 778kB 14.3MB/s eta 0:00:01\r\u001b[K     |████████████▎                   | 788kB 14.3MB/s eta 0:00:01\r\u001b[K     |████████████▍                   | 798kB 14.3MB/s eta 0:00:01\r\u001b[K     |████████████▋                   | 808kB 14.3MB/s eta 0:00:01\r\u001b[K     |████████████▊                   | 819kB 14.3MB/s eta 0:00:01\r\u001b[K     |████████████▉                   | 829kB 14.3MB/s eta 0:00:01\r\u001b[K     |█████████████                   | 839kB 14.3MB/s eta 0:00:01\r\u001b[K     |█████████████▏                  | 849kB 14.3MB/s eta 0:00:01\r\u001b[K     |█████████████▍                  | 860kB 14.3MB/s eta 0:00:01\r\u001b[K     |█████████████▌                  | 870kB 14.3MB/s eta 0:00:01\r\u001b[K     |█████████████▊                  | 880kB 14.3MB/s eta 0:00:01\r\u001b[K     |█████████████▉                  | 890kB 14.3MB/s eta 0:00:01\r\u001b[K     |██████████████                  | 901kB 14.3MB/s eta 0:00:01\r\u001b[K     |██████████████▏                 | 911kB 14.3MB/s eta 0:00:01\r\u001b[K     |██████████████▎                 | 921kB 14.3MB/s eta 0:00:01\r\u001b[K     |██████████████▌                 | 931kB 14.3MB/s eta 0:00:01\r\u001b[K     |██████████████▋                 | 942kB 14.3MB/s eta 0:00:01\r\u001b[K     |██████████████▉                 | 952kB 14.3MB/s eta 0:00:01\r\u001b[K     |███████████████                 | 962kB 14.3MB/s eta 0:00:01\r\u001b[K     |███████████████                 | 972kB 14.3MB/s eta 0:00:01\r\u001b[K     |███████████████▎                | 983kB 14.3MB/s eta 0:00:01\r\u001b[K     |███████████████▍                | 993kB 14.3MB/s eta 0:00:01\r\u001b[K     |███████████████▋                | 1.0MB 14.3MB/s eta 0:00:01\r\u001b[K     |███████████████▊                | 1.0MB 14.3MB/s eta 0:00:01\r\u001b[K     |████████████████                | 1.0MB 14.3MB/s eta 0:00:01\r\u001b[K     |████████████████                | 1.0MB 14.3MB/s eta 0:00:01\r\u001b[K     |████████████████▏               | 1.0MB 14.3MB/s eta 0:00:01\r\u001b[K     |████████████████▍               | 1.1MB 14.3MB/s eta 0:00:01\r\u001b[K     |████████████████▌               | 1.1MB 14.3MB/s eta 0:00:01\r\u001b[K     |████████████████▊               | 1.1MB 14.3MB/s eta 0:00:01\r\u001b[K     |████████████████▉               | 1.1MB 14.3MB/s eta 0:00:01\r\u001b[K     |█████████████████               | 1.1MB 14.3MB/s eta 0:00:01\r\u001b[K     |█████████████████▏              | 1.1MB 14.3MB/s eta 0:00:01\r\u001b[K     |█████████████████▍              | 1.1MB 14.3MB/s eta 0:00:01\r\u001b[K     |█████████████████▌              | 1.1MB 14.3MB/s eta 0:00:01\r\u001b[K     |█████████████████▋              | 1.1MB 14.3MB/s eta 0:00:01\r\u001b[K     |█████████████████▉              | 1.1MB 14.3MB/s eta 0:00:01\r\u001b[K     |██████████████████              | 1.2MB 14.3MB/s eta 0:00:01\r\u001b[K     |██████████████████▏             | 1.2MB 14.3MB/s eta 0:00:01\r\u001b[K     |██████████████████▎             | 1.2MB 14.3MB/s eta 0:00:01\r\u001b[K     |██████████████████▌             | 1.2MB 14.3MB/s eta 0:00:01\r\u001b[K     |██████████████████▋             | 1.2MB 14.3MB/s eta 0:00:01\r\u001b[K     |██████████████████▊             | 1.2MB 14.3MB/s eta 0:00:01\r\u001b[K     |███████████████████             | 1.2MB 14.3MB/s eta 0:00:01\r\u001b[K     |███████████████████             | 1.2MB 14.3MB/s eta 0:00:01\r\u001b[K     |███████████████████▎            | 1.2MB 14.3MB/s eta 0:00:01\r\u001b[K     |███████████████████▍            | 1.2MB 14.3MB/s eta 0:00:01\r\u001b[K     |███████████████████▋            | 1.3MB 14.3MB/s eta 0:00:01\r\u001b[K     |███████████████████▊            | 1.3MB 14.3MB/s eta 0:00:01\r\u001b[K     |███████████████████▉            | 1.3MB 14.3MB/s eta 0:00:01\r\u001b[K     |████████████████████            | 1.3MB 14.3MB/s eta 0:00:01\r\u001b[K     |████████████████████▏           | 1.3MB 14.3MB/s eta 0:00:01\r\u001b[K     |████████████████████▍           | 1.3MB 14.3MB/s eta 0:00:01\r\u001b[K     |████████████████████▌           | 1.3MB 14.3MB/s eta 0:00:01\r\u001b[K     |████████████████████▊           | 1.3MB 14.3MB/s eta 0:00:01\r\u001b[K     |████████████████████▉           | 1.3MB 14.3MB/s eta 0:00:01\r\u001b[K     |█████████████████████           | 1.4MB 14.3MB/s eta 0:00:01\r\u001b[K     |█████████████████████▏          | 1.4MB 14.3MB/s eta 0:00:01\r\u001b[K     |█████████████████████▎          | 1.4MB 14.3MB/s eta 0:00:01\r\u001b[K     |█████████████████████▌          | 1.4MB 14.3MB/s eta 0:00:01\r\u001b[K     |█████████████████████▋          | 1.4MB 14.3MB/s eta 0:00:01\r\u001b[K     |█████████████████████▉          | 1.4MB 14.3MB/s eta 0:00:01\r\u001b[K     |██████████████████████          | 1.4MB 14.3MB/s eta 0:00:01\r\u001b[K     |██████████████████████          | 1.4MB 14.3MB/s eta 0:00:01\r\u001b[K     |██████████████████████▎         | 1.4MB 14.3MB/s eta 0:00:01\r\u001b[K     |██████████████████████▍         | 1.4MB 14.3MB/s eta 0:00:01\r\u001b[K     |██████████████████████▋         | 1.5MB 14.3MB/s eta 0:00:01\r\u001b[K     |██████████████████████▊         | 1.5MB 14.3MB/s eta 0:00:01\r\u001b[K     |███████████████████████         | 1.5MB 14.3MB/s eta 0:00:01\r\u001b[K     |███████████████████████         | 1.5MB 14.3MB/s eta 0:00:01\r\u001b[K     |███████████████████████▏        | 1.5MB 14.3MB/s eta 0:00:01\r\u001b[K     |███████████████████████▍        | 1.5MB 14.3MB/s eta 0:00:01\r\u001b[K     |███████████████████████▌        | 1.5MB 14.3MB/s eta 0:00:01\r\u001b[K     |███████████████████████▊        | 1.5MB 14.3MB/s eta 0:00:01\r\u001b[K     |███████████████████████▉        | 1.5MB 14.3MB/s eta 0:00:01\r\u001b[K     |████████████████████████        | 1.5MB 14.3MB/s eta 0:00:01\r\u001b[K     |████████████████████████▏       | 1.6MB 14.3MB/s eta 0:00:01\r\u001b[K     |████████████████████████▎       | 1.6MB 14.3MB/s eta 0:00:01\r\u001b[K     |████████████████████████▌       | 1.6MB 14.3MB/s eta 0:00:01\r\u001b[K     |████████████████████████▋       | 1.6MB 14.3MB/s eta 0:00:01\r\u001b[K     |████████████████████████▉       | 1.6MB 14.3MB/s eta 0:00:01\r\u001b[K     |█████████████████████████       | 1.6MB 14.3MB/s eta 0:00:01\r\u001b[K     |█████████████████████████▏      | 1.6MB 14.3MB/s eta 0:00:01\r\u001b[K     |█████████████████████████▎      | 1.6MB 14.3MB/s eta 0:00:01\r\u001b[K     |█████████████████████████▍      | 1.6MB 14.3MB/s eta 0:00:01\r\u001b[K     |█████████████████████████▋      | 1.6MB 14.3MB/s eta 0:00:01\r\u001b[K     |█████████████████████████▊      | 1.7MB 14.3MB/s eta 0:00:01\r\u001b[K     |██████████████████████████      | 1.7MB 14.3MB/s eta 0:00:01\r\u001b[K     |██████████████████████████      | 1.7MB 14.3MB/s eta 0:00:01\r\u001b[K     |██████████████████████████▎     | 1.7MB 14.3MB/s eta 0:00:01\r\u001b[K     |██████████████████████████▍     | 1.7MB 14.3MB/s eta 0:00:01\r\u001b[K     |██████████████████████████▋     | 1.7MB 14.3MB/s eta 0:00:01\r\u001b[K     |██████████████████████████▊     | 1.7MB 14.3MB/s eta 0:00:01\r\u001b[K     |██████████████████████████▉     | 1.7MB 14.3MB/s eta 0:00:01\r\u001b[K     |███████████████████████████     | 1.7MB 14.3MB/s eta 0:00:01\r\u001b[K     |███████████████████████████▏    | 1.8MB 14.3MB/s eta 0:00:01\r\u001b[K     |███████████████████████████▍    | 1.8MB 14.3MB/s eta 0:00:01\r\u001b[K     |███████████████████████████▌    | 1.8MB 14.3MB/s eta 0:00:01\r\u001b[K     |███████████████████████████▊    | 1.8MB 14.3MB/s eta 0:00:01\r\u001b[K     |███████████████████████████▉    | 1.8MB 14.3MB/s eta 0:00:01\r\u001b[K     |████████████████████████████    | 1.8MB 14.3MB/s eta 0:00:01\r\u001b[K     |████████████████████████████▏   | 1.8MB 14.3MB/s eta 0:00:01\r\u001b[K     |████████████████████████████▎   | 1.8MB 14.3MB/s eta 0:00:01\r\u001b[K     |████████████████████████████▌   | 1.8MB 14.3MB/s eta 0:00:01\r\u001b[K     |████████████████████████████▋   | 1.8MB 14.3MB/s eta 0:00:01\r\u001b[K     |████████████████████████████▉   | 1.9MB 14.3MB/s eta 0:00:01\r\u001b[K     |█████████████████████████████   | 1.9MB 14.3MB/s eta 0:00:01\r\u001b[K     |█████████████████████████████   | 1.9MB 14.3MB/s eta 0:00:01\r\u001b[K     |█████████████████████████████▎  | 1.9MB 14.3MB/s eta 0:00:01\r\u001b[K     |█████████████████████████████▍  | 1.9MB 14.3MB/s eta 0:00:01\r\u001b[K     |█████████████████████████████▋  | 1.9MB 14.3MB/s eta 0:00:01\r\u001b[K     |█████████████████████████████▊  | 1.9MB 14.3MB/s eta 0:00:01\r\u001b[K     |██████████████████████████████  | 1.9MB 14.3MB/s eta 0:00:01\r\u001b[K     |██████████████████████████████  | 1.9MB 14.3MB/s eta 0:00:01\r\u001b[K     |██████████████████████████████▏ | 1.9MB 14.3MB/s eta 0:00:01\r\u001b[K     |██████████████████████████████▍ | 2.0MB 14.3MB/s eta 0:00:01\r\u001b[K     |██████████████████████████████▌ | 2.0MB 14.3MB/s eta 0:00:01\r\u001b[K     |██████████████████████████████▊ | 2.0MB 14.3MB/s eta 0:00:01\r\u001b[K     |██████████████████████████████▉ | 2.0MB 14.3MB/s eta 0:00:01\r\u001b[K     |███████████████████████████████ | 2.0MB 14.3MB/s eta 0:00:01\r\u001b[K     |███████████████████████████████▏| 2.0MB 14.3MB/s eta 0:00:01\r\u001b[K     |███████████████████████████████▎| 2.0MB 14.3MB/s eta 0:00:01\r\u001b[K     |███████████████████████████████▌| 2.0MB 14.3MB/s eta 0:00:01\r\u001b[K     |███████████████████████████████▋| 2.0MB 14.3MB/s eta 0:00:01\r\u001b[K     |███████████████████████████████▉| 2.0MB 14.3MB/s eta 0:00:01\r\u001b[K     |████████████████████████████████| 2.1MB 14.3MB/s eta 0:00:01\r\u001b[K     |████████████████████████████████| 2.1MB 14.3MB/s \n",
            "\u001b[?25hRequirement already satisfied: numpy>=1.17 in /usr/local/lib/python3.7/dist-packages (from transformers) (1.19.5)\n",
            "Requirement already satisfied: requests in /usr/local/lib/python3.7/dist-packages (from transformers) (2.23.0)\n",
            "Requirement already satisfied: regex!=2019.12.17 in /usr/local/lib/python3.7/dist-packages (from transformers) (2019.12.20)\n",
            "Requirement already satisfied: filelock in /usr/local/lib/python3.7/dist-packages (from transformers) (3.0.12)\n",
            "Requirement already satisfied: importlib-metadata; python_version < \"3.8\" in /usr/local/lib/python3.7/dist-packages (from transformers) (3.10.1)\n",
            "Collecting tokenizers<0.11,>=0.10.1\n",
            "\u001b[?25l  Downloading https://files.pythonhosted.org/packages/ae/04/5b870f26a858552025a62f1649c20d29d2672c02ff3c3fb4c688ca46467a/tokenizers-0.10.2-cp37-cp37m-manylinux2010_x86_64.whl (3.3MB)\n",
            "\u001b[K     |████████████████████████████████| 3.3MB 35.9MB/s \n",
            "\u001b[?25hRequirement already satisfied: tqdm>=4.27 in /usr/local/lib/python3.7/dist-packages (from transformers) (4.41.1)\n",
            "Requirement already satisfied: packaging in /usr/local/lib/python3.7/dist-packages (from transformers) (20.9)\n",
            "Collecting sacremoses\n",
            "\u001b[?25l  Downloading https://files.pythonhosted.org/packages/75/ee/67241dc87f266093c533a2d4d3d69438e57d7a90abb216fa076e7d475d4a/sacremoses-0.0.45-py3-none-any.whl (895kB)\n",
            "\u001b[K     |████████████████████████████████| 901kB 32.8MB/s \n",
            "\u001b[?25hRequirement already satisfied: certifi>=2017.4.17 in /usr/local/lib/python3.7/dist-packages (from requests->transformers) (2020.12.5)\n",
            "Requirement already satisfied: urllib3!=1.25.0,!=1.25.1,<1.26,>=1.21.1 in /usr/local/lib/python3.7/dist-packages (from requests->transformers) (1.24.3)\n",
            "Requirement already satisfied: idna<3,>=2.5 in /usr/local/lib/python3.7/dist-packages (from requests->transformers) (2.10)\n",
            "Requirement already satisfied: chardet<4,>=3.0.2 in /usr/local/lib/python3.7/dist-packages (from requests->transformers) (3.0.4)\n",
            "Requirement already satisfied: zipp>=0.5 in /usr/local/lib/python3.7/dist-packages (from importlib-metadata; python_version < \"3.8\"->transformers) (3.4.1)\n",
            "Requirement already satisfied: typing-extensions>=3.6.4; python_version < \"3.8\" in /usr/local/lib/python3.7/dist-packages (from importlib-metadata; python_version < \"3.8\"->transformers) (3.7.4.3)\n",
            "Requirement already satisfied: pyparsing>=2.0.2 in /usr/local/lib/python3.7/dist-packages (from packaging->transformers) (2.4.7)\n",
            "Requirement already satisfied: six in /usr/local/lib/python3.7/dist-packages (from sacremoses->transformers) (1.15.0)\n",
            "Requirement already satisfied: joblib in /usr/local/lib/python3.7/dist-packages (from sacremoses->transformers) (1.0.1)\n",
            "Requirement already satisfied: click in /usr/local/lib/python3.7/dist-packages (from sacremoses->transformers) (7.1.2)\n",
            "Installing collected packages: tokenizers, sacremoses, transformers\n",
            "Successfully installed sacremoses-0.0.45 tokenizers-0.10.2 transformers-4.5.1\n"
          ],
          "name": "stdout"
        }
      ]
    },
    {
      "cell_type": "markdown",
      "metadata": {
        "id": "p0WHOyxbnFmq"
      },
      "source": [
        "LOADING **MODEL**"
      ]
    },
    {
      "cell_type": "code",
      "metadata": {
        "id": "FsKPBknQnHv4"
      },
      "source": [
        "from transformers import GPT2LMHeadModel, GPT2Tokenizer"
      ],
      "execution_count": 2,
      "outputs": []
    },
    {
      "cell_type": "code",
      "metadata": {
        "colab": {
          "base_uri": "https://localhost:8080/",
          "height": 262,
          "referenced_widgets": [
            "f1d56ad70c454a1ea504d9e8896ff7ae",
            "df6ace63c0264ff49b19269046819e6d",
            "4f116a10f79540779f968affc0d794ae",
            "e9ec238d5c5541e688d7b4070d446ecd",
            "78ef8794c28747a880dac6be7c0c2a87",
            "f50575fefa4b4e698f10f62ad6862b04",
            "a9f5c18314f249c2bf23afe82bf72b09",
            "8fb6519194a740509c1f844f70563e19",
            "9575bd20d93e4e7fb003f9ce8e3441f4",
            "9421ed558f5c4e31bef73eb0b3bbced1",
            "31fff8ab5a1d4e8cb8af66ce0632b139",
            "45d3c7f8934743ddbdada73ac8cb3ac9",
            "ab95ac92f7b543228d98e6d8dc37bc15",
            "05e67005be2841ff8d15c9546c0310c4",
            "9b7055f62edb4596beec5f1489b7a4d2",
            "3c40f28000064a338abc8de6b691d0eb",
            "8fffd102c2c94465862cd4801d7dd6c2",
            "994cacecccde42b382f5cfd5208d2ac1",
            "f0958a66537248bfb185517f937ac26a",
            "0628b12cb559497fa9cb341a1c84a560",
            "863266b07a4e46a08ea61cceb8b93d38",
            "f8f943c758304f64aa56dfcc9f4d7513",
            "471dc540a98042f2a2f888e5ec532b96",
            "a80c735b1895425d93470901cf248206",
            "3c70a20761a2476780e545c71aa655cd",
            "101c9a5ca39f4ba4a40128d144946188",
            "7bded2ee0eed41b0b7df537f0c206564",
            "915e42b2d2b04b98bf84c6a9b4b59077",
            "e5446f91c60644c5b4c8c1f3d02921f0",
            "599de20624854a6594d54c6813a8d41e",
            "895989caab214f26badc583867c1c728",
            "034072bdf93a46f7ae69899b066ee393",
            "8cf3bd7405a14e98bcb0e73e17610e8e",
            "d9d2bfe5dc3d443a9cb70c0f34223d4a",
            "4c3821a43eac4c20a5386e6ed08cbfb8",
            "3ac5b97443e24f83b514d809ae3b03bd",
            "a5e30d55f3104426b6d099dbb2891d7c",
            "3223be3378d0409fbfa55bc13b37ea97",
            "de8fab71c4834a1286efac46a4e48ed5",
            "20db18a1ea664bcc86df606054655911"
          ]
        },
        "id": "5M8hz4wYnT7w",
        "outputId": "04383156-26f3-410d-f50d-2f0781acef2d"
      },
      "source": [
        "tokenizer = GPT2Tokenizer.from_pretrained(\"gpt2\")\n",
        "model = GPT2LMHeadModel.from_pretrained(\"gpt2\")"
      ],
      "execution_count": 3,
      "outputs": [
        {
          "output_type": "display_data",
          "data": {
            "application/vnd.jupyter.widget-view+json": {
              "model_id": "f1d56ad70c454a1ea504d9e8896ff7ae",
              "version_minor": 0,
              "version_major": 2
            },
            "text/plain": [
              "HBox(children=(FloatProgress(value=0.0, description='Downloading', max=1042301.0, style=ProgressStyle(descript…"
            ]
          },
          "metadata": {
            "tags": []
          }
        },
        {
          "output_type": "stream",
          "text": [
            "\n"
          ],
          "name": "stdout"
        },
        {
          "output_type": "display_data",
          "data": {
            "application/vnd.jupyter.widget-view+json": {
              "model_id": "9575bd20d93e4e7fb003f9ce8e3441f4",
              "version_minor": 0,
              "version_major": 2
            },
            "text/plain": [
              "HBox(children=(FloatProgress(value=0.0, description='Downloading', max=456318.0, style=ProgressStyle(descripti…"
            ]
          },
          "metadata": {
            "tags": []
          }
        },
        {
          "output_type": "stream",
          "text": [
            "\n"
          ],
          "name": "stdout"
        },
        {
          "output_type": "display_data",
          "data": {
            "application/vnd.jupyter.widget-view+json": {
              "model_id": "8fffd102c2c94465862cd4801d7dd6c2",
              "version_minor": 0,
              "version_major": 2
            },
            "text/plain": [
              "HBox(children=(FloatProgress(value=0.0, description='Downloading', max=1355256.0, style=ProgressStyle(descript…"
            ]
          },
          "metadata": {
            "tags": []
          }
        },
        {
          "output_type": "stream",
          "text": [
            "\n"
          ],
          "name": "stdout"
        },
        {
          "output_type": "display_data",
          "data": {
            "application/vnd.jupyter.widget-view+json": {
              "model_id": "3c70a20761a2476780e545c71aa655cd",
              "version_minor": 0,
              "version_major": 2
            },
            "text/plain": [
              "HBox(children=(FloatProgress(value=0.0, description='Downloading', max=665.0, style=ProgressStyle(description_…"
            ]
          },
          "metadata": {
            "tags": []
          }
        },
        {
          "output_type": "stream",
          "text": [
            "\n"
          ],
          "name": "stdout"
        },
        {
          "output_type": "display_data",
          "data": {
            "application/vnd.jupyter.widget-view+json": {
              "model_id": "8cf3bd7405a14e98bcb0e73e17610e8e",
              "version_minor": 0,
              "version_major": 2
            },
            "text/plain": [
              "HBox(children=(FloatProgress(value=0.0, description='Downloading', max=548118077.0, style=ProgressStyle(descri…"
            ]
          },
          "metadata": {
            "tags": []
          }
        },
        {
          "output_type": "stream",
          "text": [
            "\n"
          ],
          "name": "stdout"
        }
      ]
    },
    {
      "cell_type": "markdown",
      "metadata": {
        "id": "w9xEW9Asnl3B"
      },
      "source": [
        "\n",
        "PREPROCESSING THE **DATA**"
      ]
    },
    {
      "cell_type": "code",
      "metadata": {
        "id": "PC2sSctOnq99"
      },
      "source": [
        "text = \"What is Natural Language Processing?\"\n",
        "encoded_input = tokenizer.encode(text, return_tensors='pt')"
      ],
      "execution_count": 13,
      "outputs": []
    },
    {
      "cell_type": "code",
      "metadata": {
        "colab": {
          "base_uri": "https://localhost:8080/"
        },
        "id": "7FaM5mSooJhh",
        "outputId": "dc0e41ae-48c0-4c47-cef7-691d91540da3"
      },
      "source": [
        "encoded_input"
      ],
      "execution_count": 14,
      "outputs": [
        {
          "output_type": "execute_result",
          "data": {
            "text/plain": [
              "tensor([[ 2061,   318, 12068, 15417, 28403,    30]])"
            ]
          },
          "metadata": {
            "tags": []
          },
          "execution_count": 14
        }
      ]
    },
    {
      "cell_type": "code",
      "metadata": {
        "colab": {
          "base_uri": "https://localhost:8080/"
        },
        "id": "IXb76eciow7Q",
        "outputId": "41af524c-3a65-498e-e5dd-05dd0977d8d4"
      },
      "source": [
        "print(tokenizer.decode(encoded_input[0][0]))\n",
        "print(tokenizer.decode(encoded_input[0][1]))\n",
        "print(tokenizer.decode(encoded_input[0][2]))"
      ],
      "execution_count": 15,
      "outputs": [
        {
          "output_type": "stream",
          "text": [
            "What\n",
            " is\n",
            " Natural\n"
          ],
          "name": "stdout"
        }
      ]
    },
    {
      "cell_type": "code",
      "metadata": {
        "id": "HRA5pz0JoPmY"
      },
      "source": [
        "##encoded_input = tokenizer.encode(text, return_tensors='tf')"
      ],
      "execution_count": 6,
      "outputs": []
    },
    {
      "cell_type": "code",
      "metadata": {
        "colab": {
          "base_uri": "https://localhost:8080/"
        },
        "id": "ySKlOqO4oak7",
        "outputId": "29638d19-8173-4d87-8213-3629d5044f1b"
      },
      "source": [
        "##encoded_input"
      ],
      "execution_count": 7,
      "outputs": [
        {
          "output_type": "execute_result",
          "data": {
            "text/plain": [
              "<tf.Tensor: shape=(1, 6), dtype=int32, numpy=array([[ 2061,   318, 12068, 15417, 28403,    30]], dtype=int32)>"
            ]
          },
          "metadata": {
            "tags": []
          },
          "execution_count": 7
        }
      ]
    },
    {
      "cell_type": "markdown",
      "metadata": {
        "id": "LDEysGk5pfFG"
      },
      "source": [
        "\n",
        "Text **Generation**"
      ]
    },
    {
      "cell_type": "code",
      "metadata": {
        "colab": {
          "base_uri": "https://localhost:8080/"
        },
        "id": "_5xEWQ65pktv",
        "outputId": "57454e1f-5290-46d4-b2d6-a22770f0d097"
      },
      "source": [
        "output = model.generate(encoded_input, max_length=500,num_beams=5,no_repeat_ngram_size=2,early_stopping=True)\n",
        "output"
      ],
      "execution_count": 16,
      "outputs": [
        {
          "output_type": "stream",
          "text": [
            "Setting `pad_token_id` to `eos_token_id`:50256 for open-end generation.\n"
          ],
          "name": "stderr"
        },
        {
          "output_type": "execute_result",
          "data": {
            "text/plain": [
              "tensor([[ 2061,   318, 12068, 15417, 28403,    30,   198,   198, 35364,  3303,\n",
              "          7587,   357,    45, 19930,     8,   318,   262,  1429,   416,   543,\n",
              "           356,  2193,   649,  2456,    11, 20144,    11, 13439,    11,   290,\n",
              "         13439,    13,   632,   318,   257,  1429,   287,   543,   674,  3632,\n",
              "         16795,   912,   777,  2456,   290, 20144,   287,   257,   835,   326,\n",
              "          3578,   514,   284,  1833,   606,    13,   399, 19930,   318,   635,\n",
              "          1900,   355,   366, 16129,  7587,   553,   290,   340,   318,   530,\n",
              "           286,   262,   749,  1593,  7612,   286,  4673,   257,   649,  3303,\n",
              "            13,   554,   428,  2708,    11,   356,   481,   804,   379,   703,\n",
              "           356,   460,  2193,   284,   779,  3288,  3303,   284, 10996,   351,\n",
              "           584,   661,    13,   775,   481,   635,  2112,   703,   284,  2193,\n",
              "           257,  3303,   290,   703,   340,   460,   307,  5625,   284,   534,\n",
              "           898,  1204,    13,   628,   198,  2437,   284, 14365,   257, 15417,\n",
              "           290,  1374,   284, 27967,   340,   284,  3406, 11744,  5155,   198,\n",
              "            13,   764,   764,   290,  1867,   921,  1680,  2141,   284, 20580,\n",
              "          3406, 15417, 20389,    13,   770,  2708,   481,   905,   345,   703,\n",
              "           345,   460,  2987,   534,  3303,  4678,   416, 11524,   606,   284,\n",
              "           262,   995,  1088,   345,    13,   921,   481,  2193,   546,   262,\n",
              "          1180,  3858,   286,  8950,   326,   389,  1695,   287,  1180,  3354,\n",
              "           286,   534,  1204,    11,   355,   880,   355,   703,   484, 13238,\n",
              "           422,   530,  1194,   287,  2846,   286,   511, 23491,    11, 25818,\n",
              "            11, 15582,    11, 23491,  3173,    11,  3503,    13,   383,  4007,\n",
              "           286,   428,  2665,   318,   284,  1577,   345,   257,  4096,  4547,\n",
              "           286,   703,  8950,   670,   290,   644,   484,   460,   466,   284,\n",
              "          1037,   345,  2193,   606,  1365,    13,  1002,   345,   423,   597,\n",
              "          2683,   393,  3651,    11,  3387,  1254,  1479,   284,  2666,   606,\n",
              "           287,   262,  3651,  2665,  2174,    13,   314,   481,  1949,   284,\n",
              "          3280,   606,   355,  2952,   355,  1744,    11,   475,  3387,   466,\n",
              "           407, 22898,   284,  3151,   503,   284,   502,   611,   345,   389,\n",
              "          4609,   287,  4673,   517,   546,   428,  7243,    13, 50256]])"
            ]
          },
          "metadata": {
            "tags": []
          },
          "execution_count": 16
        }
      ]
    },
    {
      "cell_type": "markdown",
      "metadata": {
        "id": "CIDu-Txiqp2I"
      },
      "source": [
        "\n",
        "Decoding The Encoded Text Genererated By **Model¶**"
      ]
    },
    {
      "cell_type": "code",
      "metadata": {
        "colab": {
          "base_uri": "https://localhost:8080/",
          "height": 137
        },
        "id": "AS6TSigkqiX5",
        "outputId": "9451140e-55ac-418c-eda5-0ec1b2cc411e"
      },
      "source": [
        "tokenizer.decode(output[0], skip_special_tokens=True)"
      ],
      "execution_count": 17,
      "outputs": [
        {
          "output_type": "execute_result",
          "data": {
            "application/vnd.google.colaboratory.intrinsic+json": {
              "type": "string"
            },
            "text/plain": [
              "'What is Natural Language Processing?\\n\\nNatural language processing (NLP) is the process by which we learn new words, phrases, sentences, and sentences. It is a process in which our brain interprets these words and phrases in a way that allows us to understand them. NLP is also known as \"language processing,\" and it is one of the most important aspects of learning a new language. In this article, we will look at how we can learn to use natural language to communicate with other people. We will also discuss how to learn a language and how it can be applied to your own life.\\n\\n\\nHow to Learn a Language and How to Apply it to Your Own Life\\n... and What You Can Do to Improve Your Language Skills. This article will show you how you can improve your language skills by applying them to the world around you. You will learn about the different types of languages that are available in different parts of your life, as well as how they differ from one another in terms of their grammar, vocabulary, syntax, grammar rules, etc. The purpose of this section is to give you a basic understanding of how languages work and what they can do to help you learn them better. If you have any questions or comments, please feel free to leave them in the comments section below. I will try to answer them as quickly as possible, but please do not hesitate to reach out to me if you are interested in learning more about this topic.'"
            ]
          },
          "metadata": {
            "tags": []
          },
          "execution_count": 17
        }
      ]
    },
    {
      "cell_type": "markdown",
      "metadata": {
        "id": "pOZ1Rt8_rJgh"
      },
      "source": [
        ""
      ]
    },
    {
      "cell_type": "markdown",
      "metadata": {
        "id": "ogDnj5QErNUi"
      },
      "source": [
        ""
      ]
    }
  ]
}